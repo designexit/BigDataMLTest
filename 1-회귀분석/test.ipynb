{
 "cells": [
  {
   "cell_type": "markdown",
   "metadata": {},
   "source": [
    "# 머신러닝 : 데이터에서 규칙을 찾고, 학습하고, 결과를 예측하는 분석방법\n",
    "## 인공지능의 한 분야\n",
    "## 2가지의 학습방법\n",
    "### 1) 지도 학습 (답지있음) : 예)통계자료가 있다. -> 집가예측, 의교기관수, 암 진단 등 결과에 대한 답이 있음. 타겟, 라벨이 있다. -> 정확도가 높다\n",
    "### 2) 비지도 학습 (답지없음) : 데이터를 수집 -> 정확도가 낮다\n",
    "\n",
    "### 해결하는 주요문제 : 1)회귀, 2)분석, 3)군집\n",
    "### 사이킷런의 모듈을 이용해서 위의 머신러닝 테스트를 진행\n",
    "### 논문, 트위터, 유튜브, 깃허브 등을 이용해서 관련자료를 많이 수집함, GPT도 많이 사용함\n",
    "\n",
    "### 레스트 서버 구축시 파이썬에 과학에 관련된 라이브러리가 많아서 파이썬 관련 서비스를 제공하는 REST API를 따로 만들기도 함\n",
    "### DJANGO장고 (파이썬 기반의 웹 프레임워크), flask, fast API 전부 다 파이썬 기반\n",
    "\n",
    "### 앞단 : 기본적인 웹, 리액트, 안드로이드 앱\n",
    "### 뒷단 : spring, Node.js, 장고, 플라스크, fast API, firebase, naver, kakao, google API 등,,,,\n"
   ]
  },
  {
   "cell_type": "markdown",
   "metadata": {},
   "source": [
    "## 답이 있는 데이터 -> 지도학습으로...\n",
    "## 주택 가격 예측\n",
    "\n",
    "## 자동차 연비 예측"
   ]
  },
  {
   "cell_type": "markdown",
   "metadata": {},
   "source": [
    "### 샘플데이터는 사이킷런에 내장된 데이터 -> 보스톤 집값 : 버전에 변경되어서 버전 맞추기 작업 필요"
   ]
  },
  {
   "cell_type": "markdown",
   "metadata": {},
   "source": [
    "## 일반 프로그램 진행방식\n",
    "### 입력값(x)      ---> 일반 프로그램 (예:함수 --> 결과값(Y))\n",
    "### 새로운 입력값(x) ---> 일반 프로그램 (예:함수 --> 새로운 결과값(Y))\n",
    "\n",
    "## 머신러닝 진행방식\n",
    "### 입력값(x)      ---> Marchine Learning 프로그램 (예:함수 --> 학습모델 --> 결과값(Y))\n",
    "### 새로운 입력값(x) ---> 학습모델 -> 새로운 출력값(Y) = 예측값\n",
    "\n",
    "## 머신러닝 프로세스\n"
   ]
  },
  {
   "cell_type": "markdown",
   "metadata": {},
   "source": [
    "### 분석 평가지표\n",
    "### MAE : Mean Absolute Error - 오류의 절대값 평균\n",
    "### MSE : Mean Squared Error - 오류의 제곱 평균 "
   ]
  },
  {
   "cell_type": "code",
   "execution_count": null,
   "metadata": {},
   "outputs": [],
   "source": []
  }
 ],
 "metadata": {
  "kernelspec": {
   "display_name": "Python 3",
   "language": "python",
   "name": "python3"
  },
  "language_info": {
   "name": "python",
   "version": "3.10.7"
  }
 },
 "nbformat": 4,
 "nbformat_minor": 2
}
