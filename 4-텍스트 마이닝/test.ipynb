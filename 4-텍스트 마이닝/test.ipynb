{
 "cells": [
  {
   "cell_type": "markdown",
   "metadata": {},
   "source": [
    "# 텍스트 마이닝\n",
    "### 감성분석, 토픽분석\n",
    "### 샘플데이터 - 네이버 크롤러로 수집된 뉴스기사, 영화리뷰 데이터 등\n",
    "\n",
    "\n",
    "## 용어정리\n",
    "### 텍스트 마이닝 - 비정형텍스트 데이터에서 패턴을 찾아내고 의미있는 정보를 추출 및 분석하는 과정\n",
    "### 과정 : 텍스트 전처리 -> 특성 벡터화 -> 머신러닝 모델 구축 및 학습 / 평가 -> 시각화 등\n",
    "\n",
    "### 특성 벡터화와 특성 추출\n",
    "### 단어 기반의 특성 추출을 하고, 숫자형 값인 벡터 값으로 표현\n",
    "### 특성 벡터화 종류 -> 1)BoW(Bag of Words)와 word2vec\n",
    "### 1) BoW : 문서가 가지고 있는 모든 단어에 대한 순서는 무시하고 빈도만 고려해서 해당 단어가 얼마나 자주 등장하는지를 특성 벡터를 만드는 방법\n",
    "### 종류 : a)카운트 기반 벡터, b)TF-IDF(Term Frequency - Inverse Document Frequency)기반 벡터 생성\n",
    "\n",
    "## a)카운트 기반 벡터\n",
    "### 단어 피처에서 숫자형 값을 할당 할 시, 각 문서에서 해당 단어가 등장하는 횟수\n",
    "### 단어의 빈도를 부여하는 벡터화 방식 (숫자형으로 변환한다)\n",
    "### 예) 전체 문서에 등장한 단어를 기반으로 어휘사전을 생성하고, 단어마다 등장 횟수를 카운트하여 해당 단어의 정수 벡터 값으로 할당한다\n",
    "### 문서별 단어의 빈도를 정리하는 행렬 -> 문서 단어 행렬(DTM = Document Term Metrix)\n",
    "### 단어 출현 빈도가 높을수록 중요한 단어로 취급한다\n",
    "### 문서 d에 등장하는 단어 t의 횟수 - tf(t,d) 표기\n",
    "### 단어행렬 :  예) 문서1 -> 사과:10, 점심:30 -> tf(\"점심\", 문서1) = 30\n",
    "### 사이킷런에서  - CountVectorizer모듈(파일)에서 제공함\n",
    "\n",
    "\n",
    "## b)TF-IDF(Term Frequency - Inverse Document Frequency)기반 벡터\n",
    "### 카운트 기반에서 단순 해당 단어빈도가 많으면 그냥 중요하다고 단순 판단했음\n",
    "### 해당 단어가 단지 문장 구성상 많이 사용하는 단어일 가능성일수도 있다.\n",
    "### TF-IDF는 특정 문서에 많이 나타나는 단어는 해당 문서의 단어 벡터에 가중치를 높이고 모든 문서에 많이 나타나는 단어는 문서의 특징을 나타내는 단어가 아니고, 그냥 범용적으로 사용이 되는 단어 가중치를 낮추는 방식\n",
    "### 문서 d에 등장한 단어 t의 TF-IDF 표현식\n",
    "### tf - idf(t,d) = tf(t,d) x idf(t,d)\n",
    "### tf(t,d) : 문서 d에 등장하는 단어 t 의 횟수\n",
    "### idf(t,d) : 역문서 빈도 \n",
    "### idf(t,d) : log (nd)/1 + df(t,d)\n",
    "\n",
    "### 집계형식 -  문서1 : 사과 : 0.2, 점심 : 0.6 -> tf-idf(\"점심\", 문서1) = 0.6\n",
    "\n",
    "### 사이킷런에서 TfidfVectorizer 모듈에서 제공이 됨. \n",
    "\n",
    "## 감성분석\n",
    "### 텍스트에서 사용자의 주관적인 의견, 감성, 태도를 분석하는 텍스트 마이닝 핵심 분석 기법 중 하나\n",
    "### 오피니언 마이닝이라고도 부름\n",
    "### 감성을 나타내는 단어를 기반으로 긍정, 또는 부정인지 결정을 함\n",
    "### 감성 사전 기반의 감성 분석을 함\n",
    "### 해당 감성 사전을 가진 상태에서 단어를 검색해서 점수를 계산함\n",
    "\n",
    "### 토픽 모델링\n",
    "### 문서를 구성하는 키워드를 기반으로 토픽(주제)를 추출하고, 추출한 토픽을 기준으로 문서를 분류\n",
    "### 분류(클러스터링) 및 분석, 토픽을 도출하고, 동향을 파악해서 새로운 문서의 토픽을 예측하는 기법(분석) \n",
    "\n",
    "### 토픽 모델링을 하는 분석방법 중 하나 -> LDA(Latent Dirichlet Allocation)\n",
    "### 주어진 문서에 잠재되어 있는 토픽을 추론하는 확률 모델 알고리즘\n",
    "### 하나의 문서에 여러 토픽으로 구성되어 있고 문서의 토픽의 분포에 따라서 단어의 분포가 결정됨\n",
    "### 하나의 문서에 잠재된 토픽별 단어와 관련된 토픽별 비율을 도출하는 방법\n",
    "### 프로세스\n",
    "### 디리클레 매개변수 -> 문서 d의 토픽 비율 -> 문서 d의 단어 n에서 토픽할당 -> 문서 d의 단어 n\n",
    "### 토픽 하이퍼 매개변수 -> 토픽 k의 단어 분포 생성 확률 -> 문서 d의 단어 n\n",
    "\n",
    "### pyLDAvis , 시각화 도구 \n",
    "### 유사성에 따라 토픽간 거리 지도와 선택한 토픽에 관련성 높은 단어 30개를 바차트로 시각화 해주는 도구. \n",
    "\n",
    "### 샘플데이터는 미리 어느정도 가공이 된 상태\n",
    "### 네이버 영호 리뷰 데이터\n",
    "### label에서 1 ~ 10점 사이의 점수들이고 이중에소 5 ~ 8점은 제외하고 \n",
    "### 1~4점 : 부정 감성으로 -> 0\n",
    "### 9~10점 : 긍정 감성으로 ->1"
   ]
  },
  {
   "cell_type": "code",
   "execution_count": 3,
   "metadata": {},
   "outputs": [
    {
     "name": "stderr",
     "output_type": "stream",
     "text": [
      "/Users/minkyoungkim/anaconda3/envs/test/lib/python3.10/site-packages/_distutils_hack/__init__.py:33: UserWarning: Setuptools is replacing distutils.\n",
      "  warnings.warn(\"Setuptools is replacing distutils.\")\n"
     ]
    },
    {
     "name": "stdout",
     "output_type": "stream",
     "text": [
      "\n",
      "INSTALLED VERSIONS\n",
      "------------------\n",
      "commit           : 0f437949513225922d851e9581723d82120684a6\n",
      "python           : 3.10.13.final.0\n",
      "python-bits      : 64\n",
      "OS               : Darwin\n",
      "OS-release       : 22.6.0\n",
      "Version          : Darwin Kernel Version 22.6.0: Wed Oct  4 21:25:26 PDT 2023; root:xnu-8796.141.3.701.17~4/RELEASE_X86_64\n",
      "machine          : x86_64\n",
      "processor        : i386\n",
      "byteorder        : little\n",
      "LC_ALL           : None\n",
      "LANG             : None\n",
      "LOCALE           : None.UTF-8\n",
      "\n",
      "pandas           : 2.0.3\n",
      "numpy            : 1.24.3\n",
      "pytz             : 2023.3.post1\n",
      "dateutil         : 2.8.2\n",
      "setuptools       : 68.0.0\n",
      "pip              : 23.2.1\n",
      "Cython           : None\n",
      "pytest           : 7.4.0\n",
      "hypothesis       : None\n",
      "sphinx           : 5.0.2\n",
      "blosc            : None\n",
      "feather          : None\n",
      "xlsxwriter       : None\n",
      "lxml.etree       : 4.9.3\n",
      "html5lib         : None\n",
      "pymysql          : None\n",
      "psycopg2         : None\n",
      "jinja2           : 3.1.2\n",
      "IPython          : 8.15.0\n",
      "pandas_datareader: None\n",
      "bs4              : 4.12.2\n",
      "bottleneck       : 1.3.5\n",
      "brotli           : \n",
      "fastparquet      : None\n",
      "fsspec           : 2023.4.0\n",
      "gcsfs            : None\n",
      "matplotlib       : 3.7.2\n",
      "numba            : 0.57.0\n",
      "numexpr          : 2.8.4\n",
      "odfpy            : None\n",
      "openpyxl         : 3.0.10\n",
      "pandas_gbq       : None\n",
      "pyarrow          : 11.0.0\n",
      "pyreadstat       : None\n",
      "pyxlsb           : None\n",
      "s3fs             : 2023.4.0\n",
      "scipy            : 1.11.1\n",
      "snappy           : \n",
      "sqlalchemy       : 1.4.39\n",
      "tables           : 3.8.0\n",
      "tabulate         : 0.8.10\n",
      "xarray           : 2023.6.0\n",
      "xlrd             : None\n",
      "zstandard        : None\n",
      "tzdata           : 2023.3\n",
      "qtpy             : 2.2.0\n",
      "pyqt5            : None\n"
     ]
    }
   ],
   "source": [
    "import pandas as pd\n",
    "pd.show_versions()"
   ]
  },
  {
   "cell_type": "code",
   "execution_count": 4,
   "metadata": {},
   "outputs": [],
   "source": [
    "# 경고 메시지 off\n",
    "import warnings\n",
    "warnings.filterwarnings(action=\"ignore\")\n",
    "\n",
    "import pandas as pd"
   ]
  },
  {
   "cell_type": "code",
   "execution_count": 5,
   "metadata": {},
   "outputs": [
    {
     "data": {
      "text/html": [
       "<div>\n",
       "<style scoped>\n",
       "    .dataframe tbody tr th:only-of-type {\n",
       "        vertical-align: middle;\n",
       "    }\n",
       "\n",
       "    .dataframe tbody tr th {\n",
       "        vertical-align: top;\n",
       "    }\n",
       "\n",
       "    .dataframe thead th {\n",
       "        text-align: right;\n",
       "    }\n",
       "</style>\n",
       "<table border=\"1\" class=\"dataframe\">\n",
       "  <thead>\n",
       "    <tr style=\"text-align: right;\">\n",
       "      <th></th>\n",
       "      <th>id</th>\n",
       "      <th>document</th>\n",
       "      <th>label</th>\n",
       "    </tr>\n",
       "  </thead>\n",
       "  <tbody>\n",
       "    <tr>\n",
       "      <th>0</th>\n",
       "      <td>9976970</td>\n",
       "      <td>아 더빙.. 진짜 짜증나네요 목소리</td>\n",
       "      <td>0</td>\n",
       "    </tr>\n",
       "    <tr>\n",
       "      <th>1</th>\n",
       "      <td>3819312</td>\n",
       "      <td>흠...포스터보고 초딩영화줄....오버연기조차 가볍지 않구나</td>\n",
       "      <td>1</td>\n",
       "    </tr>\n",
       "    <tr>\n",
       "      <th>2</th>\n",
       "      <td>10265843</td>\n",
       "      <td>너무재밓었다그래서보는것을추천한다</td>\n",
       "      <td>0</td>\n",
       "    </tr>\n",
       "    <tr>\n",
       "      <th>3</th>\n",
       "      <td>9045019</td>\n",
       "      <td>교도소 이야기구먼 ..솔직히 재미는 없다..평점 조정</td>\n",
       "      <td>0</td>\n",
       "    </tr>\n",
       "    <tr>\n",
       "      <th>4</th>\n",
       "      <td>6483659</td>\n",
       "      <td>사이몬페그의 익살스런 연기가 돋보였던 영화!스파이더맨에서 늙어보이기만 했던 커스틴 ...</td>\n",
       "      <td>1</td>\n",
       "    </tr>\n",
       "  </tbody>\n",
       "</table>\n",
       "</div>"
      ],
      "text/plain": [
       "         id                                           document  label\n",
       "0   9976970                                아 더빙.. 진짜 짜증나네요 목소리      0\n",
       "1   3819312                  흠...포스터보고 초딩영화줄....오버연기조차 가볍지 않구나      1\n",
       "2  10265843                                  너무재밓었다그래서보는것을추천한다      0\n",
       "3   9045019                      교도소 이야기구먼 ..솔직히 재미는 없다..평점 조정      0\n",
       "4   6483659  사이몬페그의 익살스런 연기가 돋보였던 영화!스파이더맨에서 늙어보이기만 했던 커스틴 ...      1"
      ]
     },
     "execution_count": 5,
     "metadata": {},
     "output_type": "execute_result"
    }
   ],
   "source": [
    "# 훈련용 데이터 부터 메모리에 올려보기 및 확인\n",
    "nsmc_train_df = pd.read_csv(\"./ratings_train.txt\", encoding=\"utf-8\", sep=\"\\t\", engine=\"python\")\n",
    "nsmc_train_df.head()"
   ]
  },
  {
   "cell_type": "code",
   "execution_count": 6,
   "metadata": {},
   "outputs": [
    {
     "name": "stdout",
     "output_type": "stream",
     "text": [
      "<class 'pandas.core.frame.DataFrame'>\n",
      "RangeIndex: 150000 entries, 0 to 149999\n",
      "Data columns (total 3 columns):\n",
      " #   Column    Non-Null Count   Dtype \n",
      "---  ------    --------------   ----- \n",
      " 0   id        150000 non-null  int64 \n",
      " 1   document  149995 non-null  object\n",
      " 2   label     150000 non-null  int64 \n",
      "dtypes: int64(2), object(1)\n",
      "memory usage: 3.4+ MB\n"
     ]
    }
   ],
   "source": [
    "# 샘플 데이터 기본 분석\n",
    "nsmc_train_df.info()"
   ]
  },
  {
   "cell_type": "code",
   "execution_count": 8,
   "metadata": {},
   "outputs": [
    {
     "name": "stdout",
     "output_type": "stream",
     "text": [
      "<class 'pandas.core.frame.DataFrame'>\n",
      "Index: 149995 entries, 0 to 149999\n",
      "Data columns (total 3 columns):\n",
      " #   Column    Non-Null Count   Dtype \n",
      "---  ------    --------------   ----- \n",
      " 0   id        149995 non-null  int64 \n",
      " 1   document  149995 non-null  object\n",
      " 2   label     149995 non-null  int64 \n",
      "dtypes: int64(2), object(1)\n",
      "memory usage: 4.6+ MB\n"
     ]
    }
   ],
   "source": [
    "# null값 제거\n",
    "nsmc_train_df = nsmc_train_df[nsmc_train_df[\"document\"].notnull()]\n",
    "\n",
    "# 샘플 데이터 기본 분석\n",
    "nsmc_train_df.info()\n"
   ]
  },
  {
   "cell_type": "code",
   "execution_count": 10,
   "metadata": {},
   "outputs": [
    {
     "data": {
      "text/plain": [
       "label\n",
       "0    75170\n",
       "1    74825\n",
       "Name: count, dtype: int64"
      ]
     },
     "execution_count": 10,
     "metadata": {},
     "output_type": "execute_result"
    }
   ],
   "source": [
    "### label에서 1 ~ 10점 사이의 점수들이고 이중에소 5 ~ 8점은 제외하고 \n",
    "### 1~4점 : 부정 감성으로 -> 0\n",
    "### 9~10점 : 긍정 감성으로 ->1\n",
    "# 각 긍정과 부정의 라벨 컬럼의 갯수 파악\n",
    "\n",
    "nsmc_train_df[\"label\"].value_counts()"
   ]
  },
  {
   "cell_type": "code",
   "execution_count": 13,
   "metadata": {},
   "outputs": [
    {
     "data": {
      "text/html": [
       "<div>\n",
       "<style scoped>\n",
       "    .dataframe tbody tr th:only-of-type {\n",
       "        vertical-align: middle;\n",
       "    }\n",
       "\n",
       "    .dataframe tbody tr th {\n",
       "        vertical-align: top;\n",
       "    }\n",
       "\n",
       "    .dataframe thead th {\n",
       "        text-align: right;\n",
       "    }\n",
       "</style>\n",
       "<table border=\"1\" class=\"dataframe\">\n",
       "  <thead>\n",
       "    <tr style=\"text-align: right;\">\n",
       "      <th></th>\n",
       "      <th>id</th>\n",
       "      <th>document</th>\n",
       "      <th>label</th>\n",
       "    </tr>\n",
       "  </thead>\n",
       "  <tbody>\n",
       "    <tr>\n",
       "      <th>0</th>\n",
       "      <td>9976970</td>\n",
       "      <td>아 더빙   진짜 짜증나네요 목소리</td>\n",
       "      <td>0</td>\n",
       "    </tr>\n",
       "    <tr>\n",
       "      <th>1</th>\n",
       "      <td>3819312</td>\n",
       "      <td>흠   포스터보고 초딩영화줄    오버연기조차 가볍지 않구나</td>\n",
       "      <td>1</td>\n",
       "    </tr>\n",
       "    <tr>\n",
       "      <th>2</th>\n",
       "      <td>10265843</td>\n",
       "      <td>너무재밓었다그래서보는것을추천한다</td>\n",
       "      <td>0</td>\n",
       "    </tr>\n",
       "    <tr>\n",
       "      <th>3</th>\n",
       "      <td>9045019</td>\n",
       "      <td>교도소 이야기구먼   솔직히 재미는 없다  평점 조정</td>\n",
       "      <td>0</td>\n",
       "    </tr>\n",
       "    <tr>\n",
       "      <th>4</th>\n",
       "      <td>6483659</td>\n",
       "      <td>사이몬페그의 익살스런 연기가 돋보였던 영화 스파이더맨에서 늙어보이기만 했던 커스틴 ...</td>\n",
       "      <td>1</td>\n",
       "    </tr>\n",
       "  </tbody>\n",
       "</table>\n",
       "</div>"
      ],
      "text/plain": [
       "         id                                           document  label\n",
       "0   9976970                                아 더빙   진짜 짜증나네요 목소리      0\n",
       "1   3819312                  흠   포스터보고 초딩영화줄    오버연기조차 가볍지 않구나      1\n",
       "2  10265843                                  너무재밓었다그래서보는것을추천한다      0\n",
       "3   9045019                      교도소 이야기구먼   솔직히 재미는 없다  평점 조정      0\n",
       "4   6483659  사이몬페그의 익살스런 연기가 돋보였던 영화 스파이더맨에서 늙어보이기만 했던 커스틴 ...      1"
      ]
     },
     "execution_count": 13,
     "metadata": {},
     "output_type": "execute_result"
    }
   ],
   "source": [
    "import re\n",
    "# re(regex 정규식)이용해서 한글만 남기기\n",
    "nsmc_train_df[\"document\"] = nsmc_train_df[\"document\"].apply(lambda x:re.sub(r'[^ ㄱ - | 가-힣+]',\" \", x))\n",
    "\n",
    "nsmc_train_df.head()"
   ]
  },
  {
   "cell_type": "code",
   "execution_count": 14,
   "metadata": {},
   "outputs": [
    {
     "data": {
      "text/html": [
       "<div>\n",
       "<style scoped>\n",
       "    .dataframe tbody tr th:only-of-type {\n",
       "        vertical-align: middle;\n",
       "    }\n",
       "\n",
       "    .dataframe tbody tr th {\n",
       "        vertical-align: top;\n",
       "    }\n",
       "\n",
       "    .dataframe thead th {\n",
       "        text-align: right;\n",
       "    }\n",
       "</style>\n",
       "<table border=\"1\" class=\"dataframe\">\n",
       "  <thead>\n",
       "    <tr style=\"text-align: right;\">\n",
       "      <th></th>\n",
       "      <th>id</th>\n",
       "      <th>document</th>\n",
       "      <th>label</th>\n",
       "    </tr>\n",
       "  </thead>\n",
       "  <tbody>\n",
       "    <tr>\n",
       "      <th>0</th>\n",
       "      <td>6270596</td>\n",
       "      <td>굳 ㅋ</td>\n",
       "      <td>1</td>\n",
       "    </tr>\n",
       "    <tr>\n",
       "      <th>1</th>\n",
       "      <td>9274899</td>\n",
       "      <td>GDNTOPCLASSINTHECLUB</td>\n",
       "      <td>0</td>\n",
       "    </tr>\n",
       "    <tr>\n",
       "      <th>2</th>\n",
       "      <td>8544678</td>\n",
       "      <td>뭐야 이 평점들은.... 나쁘진 않지만 10점 짜리는 더더욱 아니잖아</td>\n",
       "      <td>0</td>\n",
       "    </tr>\n",
       "    <tr>\n",
       "      <th>3</th>\n",
       "      <td>6825595</td>\n",
       "      <td>지루하지는 않은데 완전 막장임... 돈주고 보기에는....</td>\n",
       "      <td>0</td>\n",
       "    </tr>\n",
       "    <tr>\n",
       "      <th>4</th>\n",
       "      <td>6723715</td>\n",
       "      <td>3D만 아니었어도 별 다섯 개 줬을텐데.. 왜 3D로 나와서 제 심기를 불편하게 하죠??</td>\n",
       "      <td>0</td>\n",
       "    </tr>\n",
       "  </tbody>\n",
       "</table>\n",
       "</div>"
      ],
      "text/plain": [
       "        id                                           document  label\n",
       "0  6270596                                                굳 ㅋ      1\n",
       "1  9274899                               GDNTOPCLASSINTHECLUB      0\n",
       "2  8544678             뭐야 이 평점들은.... 나쁘진 않지만 10점 짜리는 더더욱 아니잖아      0\n",
       "3  6825595                   지루하지는 않은데 완전 막장임... 돈주고 보기에는....      0\n",
       "4  6723715  3D만 아니었어도 별 다섯 개 줬을텐데.. 왜 3D로 나와서 제 심기를 불편하게 하죠??      0"
      ]
     },
     "execution_count": 14,
     "metadata": {},
     "output_type": "execute_result"
    }
   ],
   "source": [
    "# 평가용 데이터 기본 전처리 작업 및 한글만 남기기\n",
    "nsmc_test_df = pd.read_csv(\"./ratings_test.txt\", encoding=\"utf-8\", sep=\"\\t\", engine=\"python\")\n",
    "nsmc_test_df.head()"
   ]
  },
  {
   "cell_type": "code",
   "execution_count": 15,
   "metadata": {},
   "outputs": [
    {
     "name": "stdout",
     "output_type": "stream",
     "text": [
      "<class 'pandas.core.frame.DataFrame'>\n",
      "RangeIndex: 50000 entries, 0 to 49999\n",
      "Data columns (total 3 columns):\n",
      " #   Column    Non-Null Count  Dtype \n",
      "---  ------    --------------  ----- \n",
      " 0   id        50000 non-null  int64 \n",
      " 1   document  49997 non-null  object\n",
      " 2   label     50000 non-null  int64 \n",
      "dtypes: int64(2), object(1)\n",
      "memory usage: 1.1+ MB\n"
     ]
    }
   ],
   "source": [
    "# null체크\n",
    "nsmc_test_df.info()"
   ]
  },
  {
   "cell_type": "code",
   "execution_count": 16,
   "metadata": {},
   "outputs": [
    {
     "name": "stdout",
     "output_type": "stream",
     "text": [
      "<class 'pandas.core.frame.DataFrame'>\n",
      "Index: 49997 entries, 0 to 49999\n",
      "Data columns (total 3 columns):\n",
      " #   Column    Non-Null Count  Dtype \n",
      "---  ------    --------------  ----- \n",
      " 0   id        49997 non-null  int64 \n",
      " 1   document  49997 non-null  object\n",
      " 2   label     49997 non-null  int64 \n",
      "dtypes: int64(2), object(1)\n",
      "memory usage: 1.5+ MB\n"
     ]
    }
   ],
   "source": [
    "# null값 제거\n",
    "nsmc_test_df = nsmc_test_df[nsmc_test_df[\"document\"].notnull()]\n",
    "\n",
    "# 샘플 데이터 기본 분석\n",
    "nsmc_test_df.info()"
   ]
  },
  {
   "cell_type": "code",
   "execution_count": 18,
   "metadata": {},
   "outputs": [
    {
     "data": {
      "text/html": [
       "<div>\n",
       "<style scoped>\n",
       "    .dataframe tbody tr th:only-of-type {\n",
       "        vertical-align: middle;\n",
       "    }\n",
       "\n",
       "    .dataframe tbody tr th {\n",
       "        vertical-align: top;\n",
       "    }\n",
       "\n",
       "    .dataframe thead th {\n",
       "        text-align: right;\n",
       "    }\n",
       "</style>\n",
       "<table border=\"1\" class=\"dataframe\">\n",
       "  <thead>\n",
       "    <tr style=\"text-align: right;\">\n",
       "      <th></th>\n",
       "      <th>id</th>\n",
       "      <th>document</th>\n",
       "      <th>label</th>\n",
       "    </tr>\n",
       "  </thead>\n",
       "  <tbody>\n",
       "    <tr>\n",
       "      <th>0</th>\n",
       "      <td>6270596</td>\n",
       "      <td>굳</td>\n",
       "      <td>1</td>\n",
       "    </tr>\n",
       "    <tr>\n",
       "      <th>1</th>\n",
       "      <td>9274899</td>\n",
       "      <td></td>\n",
       "      <td>0</td>\n",
       "    </tr>\n",
       "    <tr>\n",
       "      <th>2</th>\n",
       "      <td>8544678</td>\n",
       "      <td>뭐야 이 평점들은     나쁘진 않지만   점 짜리는 더더욱 아니잖아</td>\n",
       "      <td>0</td>\n",
       "    </tr>\n",
       "    <tr>\n",
       "      <th>3</th>\n",
       "      <td>6825595</td>\n",
       "      <td>지루하지는 않은데 완전 막장임    돈주고 보기에는</td>\n",
       "      <td>0</td>\n",
       "    </tr>\n",
       "    <tr>\n",
       "      <th>4</th>\n",
       "      <td>6723715</td>\n",
       "      <td>만 아니었어도 별 다섯 개 줬을텐데   왜   로 나와서 제 심기를 불편하게 하죠</td>\n",
       "      <td>0</td>\n",
       "    </tr>\n",
       "  </tbody>\n",
       "</table>\n",
       "</div>"
      ],
      "text/plain": [
       "        id                                           document  label\n",
       "0  6270596                                                굳        1\n",
       "1  9274899                                                         0\n",
       "2  8544678             뭐야 이 평점들은     나쁘진 않지만   점 짜리는 더더욱 아니잖아      0\n",
       "3  6825595                   지루하지는 않은데 완전 막장임    돈주고 보기에는          0\n",
       "4  6723715    만 아니었어도 별 다섯 개 줬을텐데   왜   로 나와서 제 심기를 불편하게 하죠        0"
      ]
     },
     "execution_count": 18,
     "metadata": {},
     "output_type": "execute_result"
    }
   ],
   "source": [
    "import re\n",
    "# re(regex 정규식)이용해서 한글만 남기기\n",
    "nsmc_test_df[\"document\"] = nsmc_test_df[\"document\"].apply(lambda x:re.sub(r'[^ ㄱ - | 가-힣+]',\" \", x))\n",
    "\n",
    "nsmc_test_df.head()"
   ]
  },
  {
   "cell_type": "code",
   "execution_count": 17,
   "metadata": {},
   "outputs": [
    {
     "data": {
      "text/plain": [
       "label\n",
       "1    25171\n",
       "0    24826\n",
       "Name: count, dtype: int64"
      ]
     },
     "execution_count": 17,
     "metadata": {},
     "output_type": "execute_result"
    }
   ],
   "source": [
    "# 각 긍정과 부정의 라벨 컬럼의 갯수 파악\n",
    "nsmc_test_df[\"label\"].value_counts()"
   ]
  },
  {
   "cell_type": "code",
   "execution_count": 19,
   "metadata": {},
   "outputs": [],
   "source": [
    "# 분석 모델 구축\n",
    "# konlpy 패키지 -> Okt 모듈을 가져와서 이용하기 (트위터에서 만든 도구)\n",
    "\n",
    "from konlpy.tag import Okt\n",
    "okt = Okt()"
   ]
  },
  {
   "cell_type": "code",
   "execution_count": 20,
   "metadata": {},
   "outputs": [],
   "source": [
    "# 품사태깅에서 형태소 분석 함수 정의\n",
    "def okt_tokenizer(text):\n",
    "  tokens = okt.morphs(text)\n",
    "  return tokens"
   ]
  },
  {
   "cell_type": "code",
   "execution_count": 22,
   "metadata": {},
   "outputs": [],
   "source": [
    "# 특성화 벡터 작업 : 머신러닝이 일하기 쉬운 환경 구축\n",
    "# 시간이 오래 걸림 (약 10분)\n",
    "from sklearn.feature_extraction.text import TfidfVectorizer\n",
    "\n",
    "# 모델 불러오기\n",
    "# ngram_range=(1,2) -> 토큰 단어의 크기를 1~2개 단어로\n",
    "# min_df=3 -> 토큰의 출현빈도가 최소 3번이상\n",
    "# max_df=0.9 -> 최대 90% 이하인 것만 사용\n",
    "tfidf = TfidfVectorizer(tokenizer=okt_tokenizer, ngram_range=(1,2), min_df=3, max_df=0.9)\n",
    "\n",
    "# 모델 학습 오래 걸림. \n",
    "tfidf.fit(nsmc_train_df[\"document\"])\n",
    "nsmc_train_tfidf = tfidf.transform(nsmc_train_df[\"document\"])"
   ]
  },
  {
   "cell_type": "code",
   "execution_count": 23,
   "metadata": {},
   "outputs": [
    {
     "data": {
      "text/plain": [
       "LogisticRegression(random_state=0)"
      ]
     },
     "execution_count": 23,
     "metadata": {},
     "output_type": "execute_result"
    }
   ],
   "source": [
    "# 감성 분류모델 만들기. 분류 문제에 자주 쓰이는 도구 : LogisticRegression\n",
    "from sklearn.linear_model import LogisticRegression\n",
    "\n",
    "# random_state=0 -> 동일성 보장\n",
    "# 모델을 불러옴\n",
    "SA_lr = LogisticRegression(random_state=0)\n",
    "\n",
    "# 모델 학습 시키기\n",
    "SA_lr.fit(nsmc_train_tfidf, nsmc_train_df[\"label\"])\n"
   ]
  },
  {
   "cell_type": "code",
   "execution_count": 26,
   "metadata": {},
   "outputs": [],
   "source": [
    "# 머신러닝, 딥러닝 해당 모델의 최적의 하이퍼 매개변수 가중치 값을 찾아야 함\n",
    "# 찾는 방법이 여러개 있는데, 교차검증을 이용해서 최적 가중치 찾기\n",
    "# 선형 회귀분석 -> y = ax1 + bx2 + cx3 + ..... (a,b,c : 앞에서 표현, 상관계수), 하이퍼 매개변수, 가중치\n",
    "# 로지스틱 회귀의 하이퍼 매개변수 c의 최적값 구하기\n",
    "# C의 각 값을 여러개 모형을 만들고 실행해서 각 성능 비교 후 찾는 과정\n",
    "# 사이킷런에 있는 이과정을 함수화 해 놓을 모듈을 이용할 예정\n",
    "# GridSearchCV 클래스 이용할 예정\n",
    "# CV (Cross Validation : 교차검증)\n",
    "\n",
    "from sklearn.model_selection import GridSearchCV\n",
    "\n",
    "# 임의의 하이퍼 매개변수 (=가중치), 가정해서 임의의 범위 안에서 베스트 최적값을 찾는 과정\n",
    "params = {'C' : [1,3,3.5,4,4.5,5]}\n",
    "\n",
    "# GridSearchCV 생성자 호출, 모델 호출\n",
    "# cv = 3 -> 겨차검증 3번, 평가 지수는 정확도를 기준으로 성능 측정을 하겠다.\n",
    "SA_lr_grid_cv = GridSearchCV(SA_lr, param_grid=params, cv = 3, scoring=\"accuracy\", verbose=1)\n"
   ]
  },
  {
   "cell_type": "code",
   "execution_count": 27,
   "metadata": {},
   "outputs": [
    {
     "name": "stdout",
     "output_type": "stream",
     "text": [
      "Fitting 3 folds for each of 6 candidates, totalling 18 fits\n"
     ]
    },
    {
     "data": {
      "text/plain": [
       "GridSearchCV(cv=3, estimator=LogisticRegression(random_state=0),\n",
       "             param_grid={'C': [1, 3, 3.5, 4, 4.5, 5]}, scoring='accuracy',\n",
       "             verbose=1)"
      ]
     },
     "execution_count": 27,
     "metadata": {},
     "output_type": "execute_result"
    }
   ],
   "source": [
    "# 불러온 모델을 학습 시키기\n",
    "# nsmc_train_tfidf : 학습할 데이터 (숫자형으로 변환된 벡터 값)\n",
    "# nsmc_train_df[\"label\"] : 답지(종속 변수, 타깃, 라벨 등)\n",
    "SA_lr_grid_cv.fit(nsmc_train_tfidf, nsmc_train_df[\"label\"])"
   ]
  },
  {
   "cell_type": "code",
   "execution_count": 28,
   "metadata": {},
   "outputs": [
    {
     "name": "stdout",
     "output_type": "stream",
     "text": [
      "{'C': 3.5} 0.8537\n"
     ]
    }
   ],
   "source": [
    "# 모델이 학습이 되면 베스트 하이퍼 매개변수를 찾고 확인해 보기\n",
    "print(SA_lr_grid_cv.best_params_, round(SA_lr_grid_cv.best_score_,4))"
   ]
  },
  {
   "cell_type": "code",
   "execution_count": 30,
   "metadata": {},
   "outputs": [],
   "source": [
    "# 최적의 모델의 매개변수를 저장\n",
    "SA_lr_best = SA_lr_grid_cv.best_estimator_"
   ]
  },
  {
   "cell_type": "code",
   "execution_count": 31,
   "metadata": {},
   "outputs": [],
   "source": [
    "# 학습된 모델 평가하기\n",
    "\n",
    "# 평가용 데이터 불러오기, 벡터화 작업 (숫자형으로 변경)\n",
    "nsmc_test_tfidf = tfidf.transform(nsmc_test_df[\"document\"])\n"
   ]
  },
  {
   "cell_type": "code",
   "execution_count": 32,
   "metadata": {},
   "outputs": [],
   "source": [
    "# 변환된 데이터를 이용해서 평가하기\n",
    "test_predict = SA_lr_best.predict(nsmc_test_tfidf)"
   ]
  },
  {
   "cell_type": "code",
   "execution_count": 33,
   "metadata": {},
   "outputs": [
    {
     "name": "stdout",
     "output_type": "stream",
     "text": [
      "감성 분석 정확도 :  0.857\n"
     ]
    }
   ],
   "source": [
    "# 평가 결과, 정확도로 콘솔에 출력해 보기\n",
    "from sklearn.metrics import accuracy_score\n",
    "\n",
    "# nsmc_test_df[\"label\"] -> 답지\n",
    "# test_predict : 학습된 모델로 예측한 값\n",
    "print(\"감성 분석 정확도 : \", round(accuracy_score(nsmc_test_df[\"label\"], test_predict),3))"
   ]
  },
  {
   "cell_type": "code",
   "execution_count": 35,
   "metadata": {},
   "outputs": [],
   "source": [
    "# 학습된 모델을 평가했더니 정확도가 약 85%정도 일치\n",
    "# 긍정, 부정 분석 일치 여부\n",
    "# 임의로 특정의 문장을 이 모델에 입력시키면 그 결과가 긍정, 부정 판단을 해줌\n",
    "# 정확도 약 85%이지만 생각보다 성능이 많이 떨어짐 \n",
    "st = input(\"감성 분석하기 위한 문장을 입력해 주세요 : \")"
   ]
  },
  {
   "cell_type": "code",
   "execution_count": 36,
   "metadata": {},
   "outputs": [
    {
     "name": "stdout",
     "output_type": "stream",
     "text": [
      "['오늘은 맛있는 점심 먹어야지', ' 야호']\n",
      "['오늘은 맛있는 점심 먹어야지  야호']\n"
     ]
    }
   ],
   "source": [
    "# 한글만 남기기\n",
    "st = re.compile(r'[ㄱ - | 가-힣]+').findall(st)\n",
    "print(st)\n",
    "st = [' '.join(st)]\n",
    "print(st)"
   ]
  },
  {
   "cell_type": "code",
   "execution_count": 37,
   "metadata": {},
   "outputs": [],
   "source": [
    "# 해당 문장을 분석하기 좋게 벡터화 과정\n",
    "st_tfidf = tfidf.transform(st)"
   ]
  },
  {
   "cell_type": "code",
   "execution_count": 38,
   "metadata": {},
   "outputs": [],
   "source": [
    "# 만들어준 모델을 이용해서 예측값 구하기 (평가))\n",
    "st_predict = SA_lr_best.predict(st_tfidf)"
   ]
  },
  {
   "cell_type": "code",
   "execution_count": 39,
   "metadata": {},
   "outputs": [
    {
     "name": "stdout",
     "output_type": "stream",
     "text": [
      "['오늘은 맛있는 점심 먹어야지  야호'] -> 긍정\n"
     ]
    }
   ],
   "source": [
    "# 긍정인지 부정인지 판별하기\n",
    "if(st_predict == 0) :\n",
    "  print(st, '-> 부정')\n",
    "else :\n",
    "  print(st, '-> 긍정')"
   ]
  },
  {
   "cell_type": "code",
   "execution_count": null,
   "metadata": {},
   "outputs": [],
   "source": []
  },
  {
   "cell_type": "code",
   "execution_count": null,
   "metadata": {},
   "outputs": [],
   "source": []
  }
 ],
 "metadata": {
  "kernelspec": {
   "display_name": "test",
   "language": "python",
   "name": "python3"
  },
  "language_info": {
   "codemirror_mode": {
    "name": "ipython",
    "version": 3
   },
   "file_extension": ".py",
   "mimetype": "text/x-python",
   "name": "python",
   "nbconvert_exporter": "python",
   "pygments_lexer": "ipython3",
   "version": "3.10.13"
  }
 },
 "nbformat": 4,
 "nbformat_minor": 2
}
